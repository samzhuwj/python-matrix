{
 "cells": [
  {
   "cell_type": "code",
   "execution_count": 1,
   "metadata": {},
   "outputs": [],
   "source": [
    "# Create a matrix in python\n",
    "# a is 2-D matrix with integers\n",
    "a = [['Roy',80,75,85,90,95],\n",
    "     ['John',75,80,75,85,100],\n",
    "     ['Dave',80,80,80,90,95]]\n",
    "\n",
    "#b is a nested list but not a matrix\n",
    "b= [['Roy',80,75,85,90,95],\n",
    "    ['John',75,80,75],\n",
    "    ['Dave',80,80,80,90,95]]"
   ]
  },
  {
   "cell_type": "code",
   "execution_count": 2,
   "metadata": {},
   "outputs": [
    {
     "name": "stdout",
     "output_type": "stream",
     "text": [
      "[[0, 0, 0, 0], [0, 0, 0, 0], [0, 0, 0, 0]]\n"
     ]
    }
   ],
   "source": [
    "# Create a dynamic matrix using for loop in python\n",
    "n = 3\n",
    "m = 4\n",
    "a = [0] * n\n",
    "for i in range(n):\n",
    "    a[i] = [0] * m\n",
    "print(a)"
   ]
  },
  {
   "cell_type": "code",
   "execution_count": 5,
   "metadata": {},
   "outputs": [
    {
     "ename": "NameError",
     "evalue": "name 'reshape' is not defined",
     "output_type": "error",
     "traceback": [
      "\u001b[0;31m---------------------------------------------------------------------------\u001b[0m",
      "\u001b[0;31mNameError\u001b[0m                                 Traceback (most recent call last)",
      "\u001b[0;32m<ipython-input-5-00ec79cc06bd>\u001b[0m in \u001b[0;36m<module>\u001b[0;34m()\u001b[0m\n\u001b[1;32m      4\u001b[0m \u001b[0mx\u001b[0m \u001b[0;34m=\u001b[0m \u001b[0mrange\u001b[0m\u001b[0;34m(\u001b[0m\u001b[0;36m16\u001b[0m\u001b[0;34m)\u001b[0m\u001b[0;34m\u001b[0m\u001b[0m\n\u001b[1;32m      5\u001b[0m \u001b[0;34m\u001b[0m\u001b[0m\n\u001b[0;32m----> 6\u001b[0;31m \u001b[0mx\u001b[0m \u001b[0;34m=\u001b[0m \u001b[0mreshape\u001b[0m\u001b[0;34m(\u001b[0m\u001b[0mx\u001b[0m\u001b[0;34m,\u001b[0m\u001b[0;34m(\u001b[0m\u001b[0;36m4\u001b[0m\u001b[0;34m,\u001b[0m\u001b[0;36m4\u001b[0m\u001b[0;34m)\u001b[0m\u001b[0;34m)\u001b[0m\u001b[0;34m\u001b[0m\u001b[0m\n\u001b[0m\u001b[1;32m      7\u001b[0m \u001b[0;34m\u001b[0m\u001b[0m\n\u001b[1;32m      8\u001b[0m \u001b[0mprint\u001b[0m\u001b[0;34m(\u001b[0m\u001b[0mx\u001b[0m\u001b[0;34m)\u001b[0m\u001b[0;34m\u001b[0m\u001b[0m\n",
      "\u001b[0;31mNameError\u001b[0m: name 'reshape' is not defined"
     ]
    }
   ],
   "source": [
    "# Create a matrix using numpy in pyhtonfrom numpy import * \n",
    "\n",
    "x = range(16)\n",
    "\n",
    "x = reshape(x,(4,4)) \n",
    "\n",
    "print(x) \n"
   ]
  },
  {
   "cell_type": "code",
   "execution_count": 6,
   "metadata": {},
   "outputs": [
    {
     "name": "stdout",
     "output_type": "stream",
     "text": [
      "['Roy', 80, 75, 85, 90, 95]\n",
      "80\n",
      "80\n"
     ]
    }
   ],
   "source": [
    "# Accessing elements of the matrix in python by using list index\n",
    "# a is 2-D matrix with integers\n",
    "a = [['Roy',80,75,85,90,95],\n",
    "     ['John',75,80,75,85,100],\n",
    "     ['Dave',80,80,80,90,95]]\n",
    "\n",
    "print(a[0])\n",
    "\n",
    "print(a[0][1])\n",
    "\n",
    "print(a[1][2])"
   ]
  },
  {
   "cell_type": "code",
   "execution_count": 8,
   "metadata": {},
   "outputs": [
    {
     "name": "stdout",
     "output_type": "stream",
     "text": [
      "['Dave', 80, 80, 80, 90, 95]\n",
      "90\n",
      "75\n"
     ]
    }
   ],
   "source": [
    "# Accessing elements of the matrix in python by using negative list index\n",
    "a = [['Roy',80,75,85,90,95],\n",
    "     ['John',75,80,75,85,100],\n",
    "     ['Dave',80,80,80,90,95]]\n",
    "\n",
    "print(a[-1]) \n",
    "\n",
    "print(a[-1][-2]) \n",
    "\n",
    "print(a[-2][-3]) "
   ]
  },
  {
   "cell_type": "code",
   "execution_count": 9,
   "metadata": {},
   "outputs": [
    {
     "ename": "NameError",
     "evalue": "name 'array' is not defined",
     "output_type": "error",
     "traceback": [
      "\u001b[0;31m---------------------------------------------------------------------------\u001b[0m",
      "\u001b[0;31mNameError\u001b[0m                                 Traceback (most recent call last)",
      "\u001b[0;32m<ipython-input-9-2f395e836967>\u001b[0m in \u001b[0;36m<module>\u001b[0;34m()\u001b[0m\n\u001b[1;32m      2\u001b[0m \u001b[0;32mfrom\u001b[0m \u001b[0mnumpy\u001b[0m \u001b[0;32mimport\u001b[0m \u001b[0;34m*\u001b[0m\u001b[0;34m\u001b[0m\u001b[0m\n\u001b[1;32m      3\u001b[0m \u001b[0;34m\u001b[0m\u001b[0m\n\u001b[0;32m----> 4\u001b[0;31m a = array([['Roy',80,75,85,90,95],\n\u001b[0m\u001b[1;32m      5\u001b[0m            \u001b[0;34m[\u001b[0m\u001b[0;34m'John'\u001b[0m\u001b[0;34m,\u001b[0m\u001b[0;36m75\u001b[0m\u001b[0;34m,\u001b[0m\u001b[0;36m80\u001b[0m\u001b[0;34m,\u001b[0m\u001b[0;36m75\u001b[0m\u001b[0;34m,\u001b[0m\u001b[0;36m85\u001b[0m\u001b[0;34m,\u001b[0m\u001b[0;36m100\u001b[0m\u001b[0;34m]\u001b[0m\u001b[0;34m,\u001b[0m\u001b[0;34m\u001b[0m\u001b[0m\n\u001b[1;32m      6\u001b[0m            ['Dave',80,80,80,90,95]])\n",
      "\u001b[0;31mNameError\u001b[0m: name 'array' is not defined"
     ]
    }
   ],
   "source": [
    "# Slicing a matrix in python using colon(:)  and numpy\n",
    "from numpy import *\n",
    "\n",
    "a = array([['Roy',80,75,85,90,95],\n",
    "           ['John',75,80,75,85,100],\n",
    "           ['Dave',80,80,80,90,95]])\n",
    "\n",
    "print(a[:3,[0,1]])"
   ]
  },
  {
   "cell_type": "code",
   "execution_count": 10,
   "metadata": {},
   "outputs": [
    {
     "name": "stdout",
     "output_type": "stream",
     "text": [
      "['Roy', 80, 75, 85, 90, 95]\n",
      "['Roy', 75, 75, 85, 90, 95]\n",
      "[['Roy', 75, 75, 85, 90, 95], ['John', 75, 80, 75, 85, 100], ['Sam', 82, 79, 88, 97, 99]]\n",
      "[['Roy', 75, 75, 85, 95, 95], ['John', 75, 80, 75, 85, 100], ['Sam', 82, 79, 88, 97, 99]]\n"
     ]
    }
   ],
   "source": [
    "# Change elements of a matrix in python\n",
    "a = [['Roy',80,75,85,90,95],\n",
    "     ['John',75,80,75,85,100],\n",
    "     ['Dave',80,80,80,90,95]]\n",
    "\n",
    "b=a[0]\n",
    "print(b)\n",
    "\n",
    "b[1]=75\n",
    "print(b)\n",
    "\n",
    "a[2]=['Sam',82,79,88,97,99]\n",
    "print(a)\n",
    "\n",
    "a[0][4]=95\n",
    "print(a)"
   ]
  },
  {
   "cell_type": "code",
   "execution_count": 12,
   "metadata": {},
   "outputs": [
    {
     "ename": "NameError",
     "evalue": "name 'array' is not defined",
     "output_type": "error",
     "traceback": [
      "\u001b[0;31m---------------------------------------------------------------------------\u001b[0m",
      "\u001b[0;31mNameError\u001b[0m                                 Traceback (most recent call last)",
      "\u001b[0;32m<ipython-input-12-a376c9cc2374>\u001b[0m in \u001b[0;36m<module>\u001b[0;34m()\u001b[0m\n\u001b[1;32m      2\u001b[0m \u001b[0;32mfrom\u001b[0m \u001b[0mnumpy\u001b[0m \u001b[0;32mimport\u001b[0m \u001b[0;34m*\u001b[0m\u001b[0;34m\u001b[0m\u001b[0m\n\u001b[1;32m      3\u001b[0m \u001b[0;34m\u001b[0m\u001b[0m\n\u001b[0;32m----> 4\u001b[0;31m a = array([['Roy',80,75,85,90,95],\n\u001b[0m\u001b[1;32m      5\u001b[0m            \u001b[0;34m[\u001b[0m\u001b[0;34m'John'\u001b[0m\u001b[0;34m,\u001b[0m\u001b[0;36m75\u001b[0m\u001b[0;34m,\u001b[0m\u001b[0;36m80\u001b[0m\u001b[0;34m,\u001b[0m\u001b[0;36m75\u001b[0m\u001b[0;34m,\u001b[0m\u001b[0;36m85\u001b[0m\u001b[0;34m,\u001b[0m\u001b[0;36m100\u001b[0m\u001b[0;34m]\u001b[0m\u001b[0;34m,\u001b[0m\u001b[0;34m\u001b[0m\u001b[0m\n\u001b[1;32m      6\u001b[0m            ['Dave',80,80,80,90,95]])\n",
      "\u001b[0;31mNameError\u001b[0m: name 'array' is not defined"
     ]
    }
   ],
   "source": [
    "# Adding a new row in the matrix in python using append()\n",
    "from numpy import *\n",
    "\n",
    "a = array([['Roy',80,75,85,90,95],\n",
    "           ['John',75,80,75,85,100],\n",
    "           ['Dave',80,80,80,90,95]])\n",
    "\n",
    "a= append(a,[['Sam',82,79,88,97,99]],0)\n",
    "# here 0 is axis that represents the dimensions where 0 stands for row and 1 stands for column\n",
    "\n",
    "print(a)"
   ]
  },
  {
   "cell_type": "code",
   "execution_count": 13,
   "metadata": {},
   "outputs": [
    {
     "ename": "NameError",
     "evalue": "name 'array' is not defined",
     "output_type": "error",
     "traceback": [
      "\u001b[0;31m---------------------------------------------------------------------------\u001b[0m",
      "\u001b[0;31mNameError\u001b[0m                                 Traceback (most recent call last)",
      "\u001b[0;32m<ipython-input-13-8a7da4632ef2>\u001b[0m in \u001b[0;36m<module>\u001b[0;34m()\u001b[0m\n\u001b[1;32m      2\u001b[0m \u001b[0;32mfrom\u001b[0m \u001b[0mnumpy\u001b[0m \u001b[0;32mimport\u001b[0m \u001b[0;34m*\u001b[0m\u001b[0;34m\u001b[0m\u001b[0m\n\u001b[1;32m      3\u001b[0m \u001b[0;34m\u001b[0m\u001b[0m\n\u001b[0;32m----> 4\u001b[0;31m a = array([['Roy',80,75,85,90,95],\n\u001b[0m\u001b[1;32m      5\u001b[0m            \u001b[0;34m[\u001b[0m\u001b[0;34m'John'\u001b[0m\u001b[0;34m,\u001b[0m\u001b[0;36m75\u001b[0m\u001b[0;34m,\u001b[0m\u001b[0;36m80\u001b[0m\u001b[0;34m,\u001b[0m\u001b[0;36m75\u001b[0m\u001b[0;34m,\u001b[0m\u001b[0;36m85\u001b[0m\u001b[0;34m,\u001b[0m\u001b[0;36m100\u001b[0m\u001b[0;34m]\u001b[0m\u001b[0;34m,\u001b[0m\u001b[0;34m\u001b[0m\u001b[0m\n\u001b[1;32m      6\u001b[0m            ['Dave',80,80,80,90,95]]) \n",
      "\u001b[0;31mNameError\u001b[0m: name 'array' is not defined"
     ]
    }
   ],
   "source": [
    "# Add a new column in the matrix for economics marks using insert().\n",
    "from numpy import * \n",
    "\n",
    "a = array([['Roy',80,75,85,90,95],\n",
    "           ['John',75,80,75,85,100],\n",
    "           ['Dave',80,80,80,90,95]]) \n",
    "\n",
    "a= insert(a,[6],[[73],[80],[85]],axis=1) \n",
    "#here axis represents the dimensions where 0 stands for row and 1 stands for column \n",
    "\n",
    "print(a) \n"
   ]
  },
  {
   "cell_type": "code",
   "execution_count": 14,
   "metadata": {},
   "outputs": [
    {
     "name": "stdout",
     "output_type": "stream",
     "text": [
      "[['Roy', 80, 75, 85, 90, 95], ['John', 75, 80, 75, 85, 100], ['Dave', 80, 80, 80, 90, 95], ['Sam', 82, 79, 88, 97, 99]]\n"
     ]
    }
   ],
   "source": [
    "# Add a row in the matrix in python using +\n",
    "a=[['Roy',80,75,85,90,95],\n",
    "   ['John',75,80,75,85,100],\n",
    "   ['Dave',80,80,80,90,95]]\n",
    "\n",
    "a= a+ [['Sam',82,79,88,97,99]]\n",
    "\n",
    "print(a)"
   ]
  },
  {
   "cell_type": "code",
   "execution_count": null,
   "metadata": {},
   "outputs": [],
   "source": [
    "# Delete a row of a matrix in python using delete from numpy\n",
    "from numpy import *\n",
    "\n",
    "a = array([['Roy',80,75,85,90,95],\n",
    "           ['John',75,80,75,85,100],\n",
    "           ['Dave',80,80,80,90,95]])\n",
    "\n",
    "a= delete(a,[1],0)\n",
    "\n",
    "print(a)\n"
   ]
  },
  {
   "cell_type": "code",
   "execution_count": 16,
   "metadata": {},
   "outputs": [
    {
     "ename": "NameError",
     "evalue": "name 'array' is not defined",
     "output_type": "error",
     "traceback": [
      "\u001b[0;31m---------------------------------------------------------------------------\u001b[0m",
      "\u001b[0;31mNameError\u001b[0m                                 Traceback (most recent call last)",
      "\u001b[0;32m<ipython-input-16-0f83f1bf1b01>\u001b[0m in \u001b[0;36m<module>\u001b[0;34m()\u001b[0m\n\u001b[1;32m      2\u001b[0m \u001b[0;32mfrom\u001b[0m \u001b[0mnumpy\u001b[0m \u001b[0;32mimport\u001b[0m \u001b[0;34m*\u001b[0m\u001b[0;34m\u001b[0m\u001b[0m\n\u001b[1;32m      3\u001b[0m \u001b[0;34m\u001b[0m\u001b[0m\n\u001b[0;32m----> 4\u001b[0;31m a = array([['Roy',80,75,85,90,95],\n\u001b[0m\u001b[1;32m      5\u001b[0m            \u001b[0;34m[\u001b[0m\u001b[0;34m'John'\u001b[0m\u001b[0;34m,\u001b[0m\u001b[0;36m75\u001b[0m\u001b[0;34m,\u001b[0m\u001b[0;36m80\u001b[0m\u001b[0;34m,\u001b[0m\u001b[0;36m75\u001b[0m\u001b[0;34m,\u001b[0m\u001b[0;36m85\u001b[0m\u001b[0;34m,\u001b[0m\u001b[0;36m100\u001b[0m\u001b[0;34m]\u001b[0m\u001b[0;34m,\u001b[0m\u001b[0;34m\u001b[0m\u001b[0m\n\u001b[1;32m      6\u001b[0m            ['Dave',80,80,80,90,95]])\n",
      "\u001b[0;31mNameError\u001b[0m: name 'array' is not defined"
     ]
    }
   ],
   "source": [
    "# Delete columns of a matrix in python using delete from numpy\n",
    "from numpy import *\n",
    "\n",
    "a = array([['Roy',80,75,85,90,95],\n",
    "           ['John',75,80,75,85,100],\n",
    "           ['Dave',80,80,80,90,95]])\n",
    "\n",
    "a= delete(a, s_[1::2], 1)\n",
    "\n",
    "print(a)"
   ]
  },
  {
   "cell_type": "code",
   "execution_count": null,
   "metadata": {},
   "outputs": [],
   "source": []
  }
 ],
 "metadata": {
  "kernelspec": {
   "display_name": "Python 3",
   "language": "python",
   "name": "python3"
  },
  "language_info": {
   "codemirror_mode": {
    "name": "ipython",
    "version": 3
   },
   "file_extension": ".py",
   "mimetype": "text/x-python",
   "name": "python",
   "nbconvert_exporter": "python",
   "pygments_lexer": "ipython3",
   "version": "3.6.3"
  }
 },
 "nbformat": 4,
 "nbformat_minor": 2
}
